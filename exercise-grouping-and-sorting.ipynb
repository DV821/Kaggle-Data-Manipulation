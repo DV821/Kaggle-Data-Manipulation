{
 "cells": [
  {
   "cell_type": "markdown",
   "metadata": {
    "papermill": {
     "duration": 0.015264,
     "end_time": "2021-02-05T05:35:41.286618",
     "exception": false,
     "start_time": "2021-02-05T05:35:41.271354",
     "status": "completed"
    },
    "tags": []
   },
   "source": [
    "# Grouping and Sorting"
   ]
  },
  {
   "cell_type": "markdown",
   "metadata": {
    "papermill": {
     "duration": 0.013897,
     "end_time": "2021-02-05T05:35:41.314989",
     "exception": false,
     "start_time": "2021-02-05T05:35:41.301092",
     "status": "completed"
    },
    "tags": []
   },
   "source": [
    "**This notebook is an exercise in the [Pandas](https://www.kaggle.com/learn/pandas) course.  You can reference the tutorial at [this link](https://www.kaggle.com/residentmario/grouping-and-sorting).**\n",
    "\n",
    "---\n"
   ]
  },
  {
   "cell_type": "markdown",
   "metadata": {
    "papermill": {
     "duration": 0.014982,
     "end_time": "2021-02-05T05:35:41.344173",
     "exception": false,
     "start_time": "2021-02-05T05:35:41.329191",
     "status": "completed"
    },
    "tags": []
   },
   "source": [
    "# Introduction\n",
    "\n",
    "In these exercises we'll apply groupwise analysis to our dataset.\n",
    "\n",
    "Run the code cell below to load the data before running the exercises."
   ]
  },
  {
   "cell_type": "code",
   "execution_count": 1,
   "metadata": {
    "execution": {
     "iopub.execute_input": "2021-02-05T05:35:41.380380Z",
     "iopub.status.busy": "2021-02-05T05:35:41.379689Z",
     "iopub.status.idle": "2021-02-05T05:35:44.684813Z",
     "shell.execute_reply": "2021-02-05T05:35:44.684031Z"
    },
    "papermill": {
     "duration": 3.326246,
     "end_time": "2021-02-05T05:35:44.685032",
     "exception": false,
     "start_time": "2021-02-05T05:35:41.358786",
     "status": "completed"
    },
    "tags": []
   },
   "outputs": [
    {
     "name": "stdout",
     "output_type": "stream",
     "text": [
      "Setup complete.\n"
     ]
    }
   ],
   "source": [
    "import pandas as pd\n",
    "\n",
    "reviews = pd.read_csv(\"../input/wine-reviews/winemag-data-130k-v2.csv\", index_col=0)\n",
    "#pd.set_option(\"display.max_rows\", 5)\n",
    "\n",
    "from learntools.core import binder; binder.bind(globals())\n",
    "from learntools.pandas.grouping_and_sorting import *\n",
    "print(\"Setup complete.\")"
   ]
  },
  {
   "cell_type": "markdown",
   "metadata": {
    "papermill": {
     "duration": 0.014544,
     "end_time": "2021-02-05T05:35:44.715033",
     "exception": false,
     "start_time": "2021-02-05T05:35:44.700489",
     "status": "completed"
    },
    "tags": []
   },
   "source": [
    "# Exercises"
   ]
  },
  {
   "cell_type": "markdown",
   "metadata": {
    "papermill": {
     "duration": 0.014325,
     "end_time": "2021-02-05T05:35:44.744814",
     "exception": false,
     "start_time": "2021-02-05T05:35:44.730489",
     "status": "completed"
    },
    "tags": []
   },
   "source": [
    "## 1.\n",
    "Who are the most common wine reviewers in the dataset? Create a `Series` whose index is the `taster_twitter_handle` category from the dataset, and whose values count how many reviews each person wrote."
   ]
  },
  {
   "cell_type": "code",
   "execution_count": 2,
   "metadata": {
    "execution": {
     "iopub.execute_input": "2021-02-05T05:35:44.795721Z",
     "iopub.status.busy": "2021-02-05T05:35:44.795045Z",
     "iopub.status.idle": "2021-02-05T05:35:44.818915Z",
     "shell.execute_reply": "2021-02-05T05:35:44.819462Z"
    },
    "papermill": {
     "duration": 0.060128,
     "end_time": "2021-02-05T05:35:44.819648",
     "exception": false,
     "start_time": "2021-02-05T05:35:44.759520",
     "status": "completed"
    },
    "tags": []
   },
   "outputs": [
    {
     "data": {
      "application/javascript": [
       "parent.postMessage({\"jupyterEvent\": \"custom.exercise_interaction\", \"data\": {\"outcomeType\": 1, \"valueTowardsCompletion\": 0.16666666666666666, \"interactionType\": 1, \"questionType\": 1, \"questionId\": \"1_ReviewsWritten\", \"learnToolsVersion\": \"0.3.4\", \"failureMessage\": \"\", \"exceptionClass\": \"\", \"trace\": \"\"}}, \"*\")"
      ],
      "text/plain": [
       "<IPython.core.display.Javascript object>"
      ]
     },
     "metadata": {},
     "output_type": "display_data"
    },
    {
     "data": {
      "text/markdown": [
       "<span style=\"color:#33cc33\">Correct:</span> \n",
       "\n",
       "\n",
       "```python\n",
       "reviews_written = reviews.groupby('taster_twitter_handle').size()\n",
       "```\n",
       "or\n",
       "```python\n",
       "reviews_written = reviews.groupby('taster_twitter_handle').taster_twitter_handle.count()\n",
       "```\n"
      ],
      "text/plain": [
       "Correct: \n",
       "\n",
       "\n",
       "```python\n",
       "reviews_written = reviews.groupby('taster_twitter_handle').size()\n",
       "```\n",
       "or\n",
       "```python\n",
       "reviews_written = reviews.groupby('taster_twitter_handle').taster_twitter_handle.count()\n",
       "```"
      ]
     },
     "metadata": {},
     "output_type": "display_data"
    }
   ],
   "source": [
    "# Your code here\n",
    "reviews_written = reviews.groupby('taster_twitter_handle').taster_twitter_handle.count()\n",
    "\n",
    "# Check your answer\n",
    "q1.check()"
   ]
  },
  {
   "cell_type": "code",
   "execution_count": 3,
   "metadata": {
    "execution": {
     "iopub.execute_input": "2021-02-05T05:35:44.857740Z",
     "iopub.status.busy": "2021-02-05T05:35:44.857016Z",
     "iopub.status.idle": "2021-02-05T05:35:44.860497Z",
     "shell.execute_reply": "2021-02-05T05:35:44.859869Z"
    },
    "papermill": {
     "duration": 0.023958,
     "end_time": "2021-02-05T05:35:44.860653",
     "exception": false,
     "start_time": "2021-02-05T05:35:44.836695",
     "status": "completed"
    },
    "tags": []
   },
   "outputs": [],
   "source": [
    "#q1.hint()\n",
    "#q1.solution()"
   ]
  },
  {
   "cell_type": "markdown",
   "metadata": {
    "papermill": {
     "duration": 0.016234,
     "end_time": "2021-02-05T05:35:44.893221",
     "exception": false,
     "start_time": "2021-02-05T05:35:44.876987",
     "status": "completed"
    },
    "tags": []
   },
   "source": [
    "## 2.\n",
    "What is the best wine I can buy for a given amount of money? Create a `Series` whose index is wine prices and whose values is the maximum number of points a wine costing that much was given in a review. Sort the values by price, ascending (so that `4.0` dollars is at the top and `3300.0` dollars is at the bottom)."
   ]
  },
  {
   "cell_type": "code",
   "execution_count": 4,
   "metadata": {
    "execution": {
     "iopub.execute_input": "2021-02-05T05:35:44.934683Z",
     "iopub.status.busy": "2021-02-05T05:35:44.933808Z",
     "iopub.status.idle": "2021-02-05T05:35:44.944426Z",
     "shell.execute_reply": "2021-02-05T05:35:44.945137Z"
    },
    "papermill": {
     "duration": 0.033682,
     "end_time": "2021-02-05T05:35:44.945336",
     "exception": false,
     "start_time": "2021-02-05T05:35:44.911654",
     "status": "completed"
    },
    "tags": []
   },
   "outputs": [
    {
     "data": {
      "application/javascript": [
       "parent.postMessage({\"jupyterEvent\": \"custom.exercise_interaction\", \"data\": {\"outcomeType\": 1, \"valueTowardsCompletion\": 0.16666666666666666, \"interactionType\": 1, \"questionType\": 1, \"questionId\": \"2_BestRatingPerPrice\", \"learnToolsVersion\": \"0.3.4\", \"failureMessage\": \"\", \"exceptionClass\": \"\", \"trace\": \"\"}}, \"*\")"
      ],
      "text/plain": [
       "<IPython.core.display.Javascript object>"
      ]
     },
     "metadata": {},
     "output_type": "display_data"
    },
    {
     "data": {
      "text/markdown": [
       "<span style=\"color:#33cc33\">Correct</span>"
      ],
      "text/plain": [
       "Correct"
      ]
     },
     "metadata": {},
     "output_type": "display_data"
    }
   ],
   "source": [
    "best_rating_per_price = reviews.groupby('price')['points'].max().sort_index()\n",
    "\n",
    "# Check your answer\n",
    "q2.check()"
   ]
  },
  {
   "cell_type": "code",
   "execution_count": 5,
   "metadata": {
    "execution": {
     "iopub.execute_input": "2021-02-05T05:35:44.984988Z",
     "iopub.status.busy": "2021-02-05T05:35:44.984269Z",
     "iopub.status.idle": "2021-02-05T05:35:44.987791Z",
     "shell.execute_reply": "2021-02-05T05:35:44.988432Z"
    },
    "papermill": {
     "duration": 0.02542,
     "end_time": "2021-02-05T05:35:44.988730",
     "exception": false,
     "start_time": "2021-02-05T05:35:44.963310",
     "status": "completed"
    },
    "tags": []
   },
   "outputs": [],
   "source": [
    "#q2.hint()\n",
    "#q2.solution()"
   ]
  },
  {
   "cell_type": "markdown",
   "metadata": {
    "papermill": {
     "duration": 0.019165,
     "end_time": "2021-02-05T05:35:45.025904",
     "exception": false,
     "start_time": "2021-02-05T05:35:45.006739",
     "status": "completed"
    },
    "tags": []
   },
   "source": [
    "## 3.\n",
    "What are the minimum and maximum prices for each `variety` of wine? Create a `DataFrame` whose index is the `variety` category from the dataset and whose values are the `min` and `max` values thereof."
   ]
  },
  {
   "cell_type": "code",
   "execution_count": 6,
   "metadata": {
    "execution": {
     "iopub.execute_input": "2021-02-05T05:35:45.065685Z",
     "iopub.status.busy": "2021-02-05T05:35:45.064986Z",
     "iopub.status.idle": "2021-02-05T05:35:45.104503Z",
     "shell.execute_reply": "2021-02-05T05:35:45.103863Z"
    },
    "papermill": {
     "duration": 0.060603,
     "end_time": "2021-02-05T05:35:45.104665",
     "exception": false,
     "start_time": "2021-02-05T05:35:45.044062",
     "status": "completed"
    },
    "tags": []
   },
   "outputs": [
    {
     "data": {
      "application/javascript": [
       "parent.postMessage({\"jupyterEvent\": \"custom.exercise_interaction\", \"data\": {\"outcomeType\": 1, \"valueTowardsCompletion\": 0.16666666666666666, \"interactionType\": 1, \"questionType\": 1, \"questionId\": \"3_PriceExtremes\", \"learnToolsVersion\": \"0.3.4\", \"failureMessage\": \"\", \"exceptionClass\": \"\", \"trace\": \"\"}}, \"*\")"
      ],
      "text/plain": [
       "<IPython.core.display.Javascript object>"
      ]
     },
     "metadata": {},
     "output_type": "display_data"
    },
    {
     "data": {
      "text/markdown": [
       "<span style=\"color:#33cc33\">Correct</span>"
      ],
      "text/plain": [
       "Correct"
      ]
     },
     "metadata": {},
     "output_type": "display_data"
    }
   ],
   "source": [
    "price_extremes = reviews.groupby(['variety']).price.agg([min,max])\n",
    "\n",
    "# Check your answer\n",
    "q3.check()"
   ]
  },
  {
   "cell_type": "code",
   "execution_count": 7,
   "metadata": {
    "execution": {
     "iopub.execute_input": "2021-02-05T05:35:45.148293Z",
     "iopub.status.busy": "2021-02-05T05:35:45.147558Z",
     "iopub.status.idle": "2021-02-05T05:35:45.150676Z",
     "shell.execute_reply": "2021-02-05T05:35:45.149958Z"
    },
    "papermill": {
     "duration": 0.026411,
     "end_time": "2021-02-05T05:35:45.150834",
     "exception": false,
     "start_time": "2021-02-05T05:35:45.124423",
     "status": "completed"
    },
    "tags": []
   },
   "outputs": [],
   "source": [
    "#q3.hint()\n",
    "#q3.solution()"
   ]
  },
  {
   "cell_type": "markdown",
   "metadata": {
    "papermill": {
     "duration": 0.019067,
     "end_time": "2021-02-05T05:35:45.189710",
     "exception": false,
     "start_time": "2021-02-05T05:35:45.170643",
     "status": "completed"
    },
    "tags": []
   },
   "source": [
    "## 4.\n",
    "What are the most expensive wine varieties? Create a variable `sorted_varieties` containing a copy of the dataframe from the previous question where varieties are sorted in descending order based on minimum price, then on maximum price (to break ties)."
   ]
  },
  {
   "cell_type": "code",
   "execution_count": 8,
   "metadata": {
    "execution": {
     "iopub.execute_input": "2021-02-05T05:35:45.233911Z",
     "iopub.status.busy": "2021-02-05T05:35:45.233240Z",
     "iopub.status.idle": "2021-02-05T05:35:45.243881Z",
     "shell.execute_reply": "2021-02-05T05:35:45.243195Z"
    },
    "papermill": {
     "duration": 0.035612,
     "end_time": "2021-02-05T05:35:45.244071",
     "exception": false,
     "start_time": "2021-02-05T05:35:45.208459",
     "status": "completed"
    },
    "tags": []
   },
   "outputs": [
    {
     "data": {
      "application/javascript": [
       "parent.postMessage({\"jupyterEvent\": \"custom.exercise_interaction\", \"data\": {\"outcomeType\": 1, \"valueTowardsCompletion\": 0.16666666666666666, \"interactionType\": 1, \"questionType\": 1, \"questionId\": \"4_SortedVarieties\", \"learnToolsVersion\": \"0.3.4\", \"failureMessage\": \"\", \"exceptionClass\": \"\", \"trace\": \"\"}}, \"*\")"
      ],
      "text/plain": [
       "<IPython.core.display.Javascript object>"
      ]
     },
     "metadata": {},
     "output_type": "display_data"
    },
    {
     "data": {
      "text/markdown": [
       "<span style=\"color:#33cc33\">Correct</span>"
      ],
      "text/plain": [
       "Correct"
      ]
     },
     "metadata": {},
     "output_type": "display_data"
    }
   ],
   "source": [
    "sorted_varieties = price_extremes.sort_values(by = ['min','max'],ascending = False)\n",
    "\n",
    "# Check your answer\n",
    "q4.check()"
   ]
  },
  {
   "cell_type": "code",
   "execution_count": 9,
   "metadata": {
    "execution": {
     "iopub.execute_input": "2021-02-05T05:35:45.290155Z",
     "iopub.status.busy": "2021-02-05T05:35:45.289033Z",
     "iopub.status.idle": "2021-02-05T05:35:45.292403Z",
     "shell.execute_reply": "2021-02-05T05:35:45.291838Z"
    },
    "papermill": {
     "duration": 0.02856,
     "end_time": "2021-02-05T05:35:45.292581",
     "exception": false,
     "start_time": "2021-02-05T05:35:45.264021",
     "status": "completed"
    },
    "tags": []
   },
   "outputs": [],
   "source": [
    "#q4.hint()\n",
    "#q4.solution()"
   ]
  },
  {
   "cell_type": "markdown",
   "metadata": {
    "papermill": {
     "duration": 0.020213,
     "end_time": "2021-02-05T05:35:45.333846",
     "exception": false,
     "start_time": "2021-02-05T05:35:45.313633",
     "status": "completed"
    },
    "tags": []
   },
   "source": [
    "## 5.\n",
    "Create a `Series` whose index is reviewers and whose values is the average review score given out by that reviewer. Hint: you will need the `taster_name` and `points` columns."
   ]
  },
  {
   "cell_type": "code",
   "execution_count": 10,
   "metadata": {
    "execution": {
     "iopub.execute_input": "2021-02-05T05:35:45.397805Z",
     "iopub.status.busy": "2021-02-05T05:35:45.396632Z",
     "iopub.status.idle": "2021-02-05T05:35:45.408632Z",
     "shell.execute_reply": "2021-02-05T05:35:45.408067Z"
    },
    "papermill": {
     "duration": 0.054721,
     "end_time": "2021-02-05T05:35:45.408787",
     "exception": false,
     "start_time": "2021-02-05T05:35:45.354066",
     "status": "completed"
    },
    "tags": []
   },
   "outputs": [
    {
     "data": {
      "application/javascript": [
       "parent.postMessage({\"jupyterEvent\": \"custom.exercise_interaction\", \"data\": {\"outcomeType\": 1, \"valueTowardsCompletion\": 0.16666666666666666, \"interactionType\": 1, \"questionType\": 1, \"questionId\": \"5_ReviewerMeanRatings\", \"learnToolsVersion\": \"0.3.4\", \"failureMessage\": \"\", \"exceptionClass\": \"\", \"trace\": \"\"}}, \"*\")"
      ],
      "text/plain": [
       "<IPython.core.display.Javascript object>"
      ]
     },
     "metadata": {},
     "output_type": "display_data"
    },
    {
     "data": {
      "text/markdown": [
       "<span style=\"color:#33cc33\">Correct</span>"
      ],
      "text/plain": [
       "Correct"
      ]
     },
     "metadata": {},
     "output_type": "display_data"
    }
   ],
   "source": [
    "reviewer_mean_ratings = reviews.groupby('taster_name').points.mean()\n",
    "\n",
    "# Check your answer\n",
    "q5.check()"
   ]
  },
  {
   "cell_type": "code",
   "execution_count": 11,
   "metadata": {
    "execution": {
     "iopub.execute_input": "2021-02-05T05:35:45.456048Z",
     "iopub.status.busy": "2021-02-05T05:35:45.455274Z",
     "iopub.status.idle": "2021-02-05T05:35:45.458414Z",
     "shell.execute_reply": "2021-02-05T05:35:45.457752Z"
    },
    "papermill": {
     "duration": 0.028763,
     "end_time": "2021-02-05T05:35:45.458575",
     "exception": false,
     "start_time": "2021-02-05T05:35:45.429812",
     "status": "completed"
    },
    "tags": []
   },
   "outputs": [],
   "source": [
    "#q5.hint()\n",
    "#q5.solution()"
   ]
  },
  {
   "cell_type": "markdown",
   "metadata": {
    "papermill": {
     "duration": 0.02309,
     "end_time": "2021-02-05T05:35:45.503750",
     "exception": false,
     "start_time": "2021-02-05T05:35:45.480660",
     "status": "completed"
    },
    "tags": []
   },
   "source": [
    "Are there significant differences in the average scores assigned by the various reviewers? Run the cell below to use the `describe()` method to see a summary of the range of values."
   ]
  },
  {
   "cell_type": "code",
   "execution_count": 12,
   "metadata": {
    "execution": {
     "iopub.execute_input": "2021-02-05T05:35:45.549216Z",
     "iopub.status.busy": "2021-02-05T05:35:45.548445Z",
     "iopub.status.idle": "2021-02-05T05:35:45.559658Z",
     "shell.execute_reply": "2021-02-05T05:35:45.560256Z"
    },
    "papermill": {
     "duration": 0.035653,
     "end_time": "2021-02-05T05:35:45.560461",
     "exception": false,
     "start_time": "2021-02-05T05:35:45.524808",
     "status": "completed"
    },
    "tags": []
   },
   "outputs": [
    {
     "data": {
      "text/plain": [
       "count    19.000000\n",
       "mean     88.233026\n",
       "std       1.243610\n",
       "min      85.855422\n",
       "25%      87.323501\n",
       "50%      88.536235\n",
       "75%      88.975256\n",
       "max      90.562551\n",
       "Name: points, dtype: float64"
      ]
     },
     "execution_count": 12,
     "metadata": {},
     "output_type": "execute_result"
    }
   ],
   "source": [
    "reviewer_mean_ratings.describe()"
   ]
  },
  {
   "cell_type": "markdown",
   "metadata": {
    "papermill": {
     "duration": 0.021901,
     "end_time": "2021-02-05T05:35:45.604293",
     "exception": false,
     "start_time": "2021-02-05T05:35:45.582392",
     "status": "completed"
    },
    "tags": []
   },
   "source": [
    "## 6.\n",
    "What combination of countries and varieties are most common? Create a `Series` whose index is a `MultiIndex`of `{country, variety}` pairs. For example, a pinot noir produced in the US should map to `{\"US\", \"Pinot Noir\"}`. Sort the values in the `Series` in descending order based on wine count."
   ]
  },
  {
   "cell_type": "code",
   "execution_count": 13,
   "metadata": {
    "execution": {
     "iopub.execute_input": "2021-02-05T05:35:45.651756Z",
     "iopub.status.busy": "2021-02-05T05:35:45.651077Z",
     "iopub.status.idle": "2021-02-05T05:35:45.700794Z",
     "shell.execute_reply": "2021-02-05T05:35:45.700124Z"
    },
    "papermill": {
     "duration": 0.075039,
     "end_time": "2021-02-05T05:35:45.700957",
     "exception": false,
     "start_time": "2021-02-05T05:35:45.625918",
     "status": "completed"
    },
    "tags": []
   },
   "outputs": [
    {
     "data": {
      "application/javascript": [
       "parent.postMessage({\"jupyterEvent\": \"custom.exercise_interaction\", \"data\": {\"outcomeType\": 1, \"valueTowardsCompletion\": 0.16666666666666666, \"interactionType\": 1, \"questionType\": 1, \"questionId\": \"6_GroupbyCountryVariety\", \"learnToolsVersion\": \"0.3.4\", \"failureMessage\": \"\", \"exceptionClass\": \"\", \"trace\": \"\"}}, \"*\")"
      ],
      "text/plain": [
       "<IPython.core.display.Javascript object>"
      ]
     },
     "metadata": {},
     "output_type": "display_data"
    },
    {
     "data": {
      "text/markdown": [
       "<span style=\"color:#33cc33\">Correct</span>"
      ],
      "text/plain": [
       "Correct"
      ]
     },
     "metadata": {},
     "output_type": "display_data"
    }
   ],
   "source": [
    "country_variety_counts = reviews.groupby(['country','variety']).size().sort_values(ascending=False)\n",
    "\n",
    "# Check your answer\n",
    "q6.check()"
   ]
  },
  {
   "cell_type": "code",
   "execution_count": 14,
   "metadata": {
    "execution": {
     "iopub.execute_input": "2021-02-05T05:35:45.751337Z",
     "iopub.status.busy": "2021-02-05T05:35:45.750411Z",
     "iopub.status.idle": "2021-02-05T05:35:45.753863Z",
     "shell.execute_reply": "2021-02-05T05:35:45.754345Z"
    },
    "papermill": {
     "duration": 0.030855,
     "end_time": "2021-02-05T05:35:45.754558",
     "exception": false,
     "start_time": "2021-02-05T05:35:45.723703",
     "status": "completed"
    },
    "tags": []
   },
   "outputs": [],
   "source": [
    "#q6.hint()\n",
    "#q6.solution()"
   ]
  },
  {
   "cell_type": "markdown",
   "metadata": {
    "papermill": {
     "duration": 0.02444,
     "end_time": "2021-02-05T05:35:45.801776",
     "exception": false,
     "start_time": "2021-02-05T05:35:45.777336",
     "status": "completed"
    },
    "tags": []
   },
   "source": [
    "# Keep going\n",
    "\n",
    "Move on to the [**data types and missing data**](https://www.kaggle.com/residentmario/data-types-and-missing-values)."
   ]
  },
  {
   "cell_type": "markdown",
   "metadata": {
    "papermill": {
     "duration": 0.023973,
     "end_time": "2021-02-05T05:35:45.850461",
     "exception": false,
     "start_time": "2021-02-05T05:35:45.826488",
     "status": "completed"
    },
    "tags": []
   },
   "source": [
    "---\n",
    "\n",
    "\n",
    "\n",
    "\n",
    "*Have questions or comments? Visit the [Learn Discussion forum](https://www.kaggle.com/learn-forum/161299) to chat with other Learners.*"
   ]
  }
 ],
 "metadata": {
  "kernelspec": {
   "display_name": "Python 3",
   "language": "python",
   "name": "python3"
  },
  "language_info": {
   "codemirror_mode": {
    "name": "ipython",
    "version": 3
   },
   "file_extension": ".py",
   "mimetype": "text/x-python",
   "name": "python",
   "nbconvert_exporter": "python",
   "pygments_lexer": "ipython3",
   "version": "3.7.9"
  },
  "papermill": {
   "default_parameters": {},
   "duration": 11.648942,
   "end_time": "2021-02-05T05:35:46.485020",
   "environment_variables": {},
   "exception": null,
   "input_path": "__notebook__.ipynb",
   "output_path": "__notebook__.ipynb",
   "parameters": {},
   "start_time": "2021-02-05T05:35:34.836078",
   "version": "2.2.2"
  }
 },
 "nbformat": 4,
 "nbformat_minor": 4
}

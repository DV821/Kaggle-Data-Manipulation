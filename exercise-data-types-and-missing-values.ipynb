{
 "cells": [
  {
   "cell_type": "markdown",
   "metadata": {
    "papermill": {
     "duration": 0.012053,
     "end_time": "2021-02-05T05:35:44.341444",
     "exception": false,
     "start_time": "2021-02-05T05:35:44.329391",
     "status": "completed"
    },
    "tags": []
   },
   "source": [
    "# Data Types and Missing Values"
   ]
  },
  {
   "cell_type": "markdown",
   "metadata": {
    "papermill": {
     "duration": 0.010312,
     "end_time": "2021-02-05T05:35:44.362482",
     "exception": false,
     "start_time": "2021-02-05T05:35:44.352170",
     "status": "completed"
    },
    "tags": []
   },
   "source": [
    "**This notebook is an exercise in the [Pandas](https://www.kaggle.com/learn/pandas) course.  You can reference the tutorial at [this link](https://www.kaggle.com/residentmario/data-types-and-missing-values).**\n",
    "\n",
    "---\n"
   ]
  },
  {
   "cell_type": "markdown",
   "metadata": {
    "papermill": {
     "duration": 0.010579,
     "end_time": "2021-02-05T05:35:44.383533",
     "exception": false,
     "start_time": "2021-02-05T05:35:44.372954",
     "status": "completed"
    },
    "tags": []
   },
   "source": [
    "# Introduction\n",
    "\n",
    "Run the following cell to load your data and some utility functions."
   ]
  },
  {
   "cell_type": "code",
   "execution_count": 1,
   "metadata": {
    "execution": {
     "iopub.execute_input": "2021-02-05T05:35:44.411443Z",
     "iopub.status.busy": "2021-02-05T05:35:44.410736Z",
     "iopub.status.idle": "2021-02-05T05:35:47.532525Z",
     "shell.execute_reply": "2021-02-05T05:35:47.531768Z"
    },
    "papermill": {
     "duration": 3.138468,
     "end_time": "2021-02-05T05:35:47.532726",
     "exception": false,
     "start_time": "2021-02-05T05:35:44.394258",
     "status": "completed"
    },
    "tags": []
   },
   "outputs": [
    {
     "name": "stdout",
     "output_type": "stream",
     "text": [
      "Setup complete.\n"
     ]
    }
   ],
   "source": [
    "import pandas as pd\n",
    "\n",
    "reviews = pd.read_csv(\"../input/wine-reviews/winemag-data-130k-v2.csv\", index_col=0)\n",
    "\n",
    "from learntools.core import binder; binder.bind(globals())\n",
    "from learntools.pandas.data_types_and_missing_data import *\n",
    "print(\"Setup complete.\")"
   ]
  },
  {
   "cell_type": "markdown",
   "metadata": {
    "papermill": {
     "duration": 0.010585,
     "end_time": "2021-02-05T05:35:47.554828",
     "exception": false,
     "start_time": "2021-02-05T05:35:47.544243",
     "status": "completed"
    },
    "tags": []
   },
   "source": [
    "# Exercises"
   ]
  },
  {
   "cell_type": "markdown",
   "metadata": {
    "papermill": {
     "duration": 0.010653,
     "end_time": "2021-02-05T05:35:47.576386",
     "exception": false,
     "start_time": "2021-02-05T05:35:47.565733",
     "status": "completed"
    },
    "tags": []
   },
   "source": [
    "## 1. \n",
    "What is the data type of the `points` column in the dataset?"
   ]
  },
  {
   "cell_type": "code",
   "execution_count": 2,
   "metadata": {
    "execution": {
     "iopub.execute_input": "2021-02-05T05:35:47.606472Z",
     "iopub.status.busy": "2021-02-05T05:35:47.605779Z",
     "iopub.status.idle": "2021-02-05T05:35:47.613838Z",
     "shell.execute_reply": "2021-02-05T05:35:47.614316Z"
    },
    "papermill": {
     "duration": 0.027265,
     "end_time": "2021-02-05T05:35:47.614498",
     "exception": false,
     "start_time": "2021-02-05T05:35:47.587233",
     "status": "completed"
    },
    "tags": []
   },
   "outputs": [
    {
     "data": {
      "application/javascript": [
       "parent.postMessage({\"jupyterEvent\": \"custom.exercise_interaction\", \"data\": {\"outcomeType\": 1, \"valueTowardsCompletion\": 0.25, \"interactionType\": 1, \"questionType\": 1, \"questionId\": \"1_PointsDtype\", \"learnToolsVersion\": \"0.3.4\", \"failureMessage\": \"\", \"exceptionClass\": \"\", \"trace\": \"\"}}, \"*\")"
      ],
      "text/plain": [
       "<IPython.core.display.Javascript object>"
      ]
     },
     "metadata": {},
     "output_type": "display_data"
    },
    {
     "data": {
      "text/markdown": [
       "<span style=\"color:#33cc33\">Correct</span>"
      ],
      "text/plain": [
       "Correct"
      ]
     },
     "metadata": {},
     "output_type": "display_data"
    }
   ],
   "source": [
    "# Your code here\n",
    "dtype = reviews.points.dtype\n",
    "\n",
    "# Check your answer\n",
    "q1.check()"
   ]
  },
  {
   "cell_type": "code",
   "execution_count": 3,
   "metadata": {
    "execution": {
     "iopub.execute_input": "2021-02-05T05:35:47.644174Z",
     "iopub.status.busy": "2021-02-05T05:35:47.643450Z",
     "iopub.status.idle": "2021-02-05T05:35:47.645773Z",
     "shell.execute_reply": "2021-02-05T05:35:47.646462Z"
    },
    "papermill": {
     "duration": 0.019821,
     "end_time": "2021-02-05T05:35:47.646639",
     "exception": false,
     "start_time": "2021-02-05T05:35:47.626818",
     "status": "completed"
    },
    "tags": []
   },
   "outputs": [],
   "source": [
    "#q1.hint()\n",
    "#q1.solution()"
   ]
  },
  {
   "cell_type": "markdown",
   "metadata": {
    "papermill": {
     "duration": 0.01182,
     "end_time": "2021-02-05T05:35:47.670716",
     "exception": false,
     "start_time": "2021-02-05T05:35:47.658896",
     "status": "completed"
    },
    "tags": []
   },
   "source": [
    "## 2. \n",
    "Create a Series from entries in the `points` column, but convert the entries to strings. Hint: strings are `str` in native Python."
   ]
  },
  {
   "cell_type": "code",
   "execution_count": 4,
   "metadata": {
    "execution": {
     "iopub.execute_input": "2021-02-05T05:35:47.698032Z",
     "iopub.status.busy": "2021-02-05T05:35:47.697411Z",
     "iopub.status.idle": "2021-02-05T05:35:47.862827Z",
     "shell.execute_reply": "2021-02-05T05:35:47.863515Z"
    },
    "papermill": {
     "duration": 0.181068,
     "end_time": "2021-02-05T05:35:47.863745",
     "exception": false,
     "start_time": "2021-02-05T05:35:47.682677",
     "status": "completed"
    },
    "tags": []
   },
   "outputs": [
    {
     "data": {
      "application/javascript": [
       "parent.postMessage({\"jupyterEvent\": \"custom.exercise_interaction\", \"data\": {\"outcomeType\": 1, \"valueTowardsCompletion\": 0.25, \"interactionType\": 1, \"questionType\": 1, \"questionId\": \"2_StrPoints\", \"learnToolsVersion\": \"0.3.4\", \"failureMessage\": \"\", \"exceptionClass\": \"\", \"trace\": \"\"}}, \"*\")"
      ],
      "text/plain": [
       "<IPython.core.display.Javascript object>"
      ]
     },
     "metadata": {},
     "output_type": "display_data"
    },
    {
     "data": {
      "text/markdown": [
       "<span style=\"color:#33cc33\">Correct</span>"
      ],
      "text/plain": [
       "Correct"
      ]
     },
     "metadata": {},
     "output_type": "display_data"
    }
   ],
   "source": [
    "point_strings =reviews.points.astype('str') \n",
    "\n",
    "# Check your answer\n",
    "q2.check()"
   ]
  },
  {
   "cell_type": "code",
   "execution_count": 5,
   "metadata": {
    "execution": {
     "iopub.execute_input": "2021-02-05T05:35:47.894763Z",
     "iopub.status.busy": "2021-02-05T05:35:47.894048Z",
     "iopub.status.idle": "2021-02-05T05:35:47.897038Z",
     "shell.execute_reply": "2021-02-05T05:35:47.897542Z"
    },
    "papermill": {
     "duration": 0.02071,
     "end_time": "2021-02-05T05:35:47.897748",
     "exception": false,
     "start_time": "2021-02-05T05:35:47.877038",
     "status": "completed"
    },
    "tags": []
   },
   "outputs": [],
   "source": [
    "#q2.hint()\n",
    "#q2.solution()"
   ]
  },
  {
   "cell_type": "markdown",
   "metadata": {
    "papermill": {
     "duration": 0.013417,
     "end_time": "2021-02-05T05:35:47.924819",
     "exception": false,
     "start_time": "2021-02-05T05:35:47.911402",
     "status": "completed"
    },
    "tags": []
   },
   "source": [
    "## 3.\n",
    "Sometimes the price column is null. How many reviews in the dataset are missing a price?"
   ]
  },
  {
   "cell_type": "code",
   "execution_count": 6,
   "metadata": {
    "execution": {
     "iopub.execute_input": "2021-02-05T05:35:47.955342Z",
     "iopub.status.busy": "2021-02-05T05:35:47.954701Z",
     "iopub.status.idle": "2021-02-05T05:35:47.962978Z",
     "shell.execute_reply": "2021-02-05T05:35:47.962462Z"
    },
    "papermill": {
     "duration": 0.024769,
     "end_time": "2021-02-05T05:35:47.963141",
     "exception": false,
     "start_time": "2021-02-05T05:35:47.938372",
     "status": "completed"
    },
    "tags": []
   },
   "outputs": [
    {
     "data": {
      "application/javascript": [
       "parent.postMessage({\"jupyterEvent\": \"custom.exercise_interaction\", \"data\": {\"outcomeType\": 1, \"valueTowardsCompletion\": 0.25, \"interactionType\": 1, \"questionType\": 1, \"questionId\": \"3_CountMissingPrices\", \"learnToolsVersion\": \"0.3.4\", \"failureMessage\": \"\", \"exceptionClass\": \"\", \"trace\": \"\"}}, \"*\")"
      ],
      "text/plain": [
       "<IPython.core.display.Javascript object>"
      ]
     },
     "metadata": {},
     "output_type": "display_data"
    },
    {
     "data": {
      "text/markdown": [
       "<span style=\"color:#33cc33\">Correct</span>"
      ],
      "text/plain": [
       "Correct"
      ]
     },
     "metadata": {},
     "output_type": "display_data"
    }
   ],
   "source": [
    "n_missing_prices = reviews.price.isnull().sum()\n",
    "\n",
    "# Check your answer\n",
    "q3.check()"
   ]
  },
  {
   "cell_type": "code",
   "execution_count": 7,
   "metadata": {
    "execution": {
     "iopub.execute_input": "2021-02-05T05:35:47.997093Z",
     "iopub.status.busy": "2021-02-05T05:35:47.996451Z",
     "iopub.status.idle": "2021-02-05T05:35:47.998896Z",
     "shell.execute_reply": "2021-02-05T05:35:47.999559Z"
    },
    "papermill": {
     "duration": 0.021651,
     "end_time": "2021-02-05T05:35:47.999723",
     "exception": false,
     "start_time": "2021-02-05T05:35:47.978072",
     "status": "completed"
    },
    "tags": []
   },
   "outputs": [],
   "source": [
    "#q3.hint()\n",
    "#q3.solution()"
   ]
  },
  {
   "cell_type": "markdown",
   "metadata": {
    "papermill": {
     "duration": 0.014439,
     "end_time": "2021-02-05T05:35:48.028635",
     "exception": false,
     "start_time": "2021-02-05T05:35:48.014196",
     "status": "completed"
    },
    "tags": []
   },
   "source": [
    "## 4.\n",
    "What are the most common wine-producing regions? Create a Series counting the number of times each value occurs in the `region_1` field. This field is often missing data, so replace missing values with `Unknown`. Sort in descending order.  Your output should look something like this:\n",
    "\n",
    "```\n",
    "Unknown                    21247\n",
    "Napa Valley                 4480\n",
    "                           ...  \n",
    "Bardolino Superiore            1\n",
    "Primitivo del Tarantino        1\n",
    "Name: region_1, Length: 1230, dtype: int64\n",
    "```"
   ]
  },
  {
   "cell_type": "code",
   "execution_count": 8,
   "metadata": {
    "execution": {
     "iopub.execute_input": "2021-02-05T05:35:48.060927Z",
     "iopub.status.busy": "2021-02-05T05:35:48.060311Z",
     "iopub.status.idle": "2021-02-05T05:35:48.165773Z",
     "shell.execute_reply": "2021-02-05T05:35:48.165134Z"
    },
    "papermill": {
     "duration": 0.122835,
     "end_time": "2021-02-05T05:35:48.165910",
     "exception": false,
     "start_time": "2021-02-05T05:35:48.043075",
     "status": "completed"
    },
    "tags": []
   },
   "outputs": [
    {
     "data": {
      "application/javascript": [
       "parent.postMessage({\"jupyterEvent\": \"custom.exercise_interaction\", \"data\": {\"outcomeType\": 1, \"valueTowardsCompletion\": 0.25, \"interactionType\": 1, \"questionType\": 2, \"questionId\": \"4_ReviewsPerRegion\", \"learnToolsVersion\": \"0.3.4\", \"failureMessage\": \"\", \"exceptionClass\": \"\", \"trace\": \"\"}}, \"*\")"
      ],
      "text/plain": [
       "<IPython.core.display.Javascript object>"
      ]
     },
     "metadata": {},
     "output_type": "display_data"
    },
    {
     "data": {
      "text/markdown": [
       "<span style=\"color:#33cc33\">Correct</span>"
      ],
      "text/plain": [
       "Correct"
      ]
     },
     "metadata": {},
     "output_type": "display_data"
    }
   ],
   "source": [
    "reviews_per_region = reviews.region_1.fillna('unknown').value_counts().sort_values(ascending=False)\n",
    "\n",
    "# Check your answer\n",
    "q4.check()"
   ]
  },
  {
   "cell_type": "code",
   "execution_count": 9,
   "metadata": {
    "execution": {
     "iopub.execute_input": "2021-02-05T05:35:48.201369Z",
     "iopub.status.busy": "2021-02-05T05:35:48.200733Z",
     "iopub.status.idle": "2021-02-05T05:35:48.203836Z",
     "shell.execute_reply": "2021-02-05T05:35:48.203303Z"
    },
    "papermill": {
     "duration": 0.022475,
     "end_time": "2021-02-05T05:35:48.203979",
     "exception": false,
     "start_time": "2021-02-05T05:35:48.181504",
     "status": "completed"
    },
    "tags": []
   },
   "outputs": [],
   "source": [
    "#q4.hint()\n",
    "#q4.solution()"
   ]
  },
  {
   "cell_type": "markdown",
   "metadata": {
    "papermill": {
     "duration": 0.015442,
     "end_time": "2021-02-05T05:35:48.235189",
     "exception": false,
     "start_time": "2021-02-05T05:35:48.219747",
     "status": "completed"
    },
    "tags": []
   },
   "source": [
    "# Keep going\n",
    "\n",
    "Move on to **[renaming and combining](https://www.kaggle.com/residentmario/renaming-and-combining)**."
   ]
  },
  {
   "cell_type": "markdown",
   "metadata": {
    "papermill": {
     "duration": 0.015515,
     "end_time": "2021-02-05T05:35:48.266494",
     "exception": false,
     "start_time": "2021-02-05T05:35:48.250979",
     "status": "completed"
    },
    "tags": []
   },
   "source": [
    "---\n",
    "\n",
    "\n",
    "\n",
    "\n",
    "*Have questions or comments? Visit the [Learn Discussion forum](https://www.kaggle.com/learn-forum/161299) to chat with other Learners.*"
   ]
  }
 ],
 "metadata": {
  "kernelspec": {
   "display_name": "Python 3",
   "language": "python",
   "name": "python3"
  },
  "language_info": {
   "codemirror_mode": {
    "name": "ipython",
    "version": 3
   },
   "file_extension": ".py",
   "mimetype": "text/x-python",
   "name": "python",
   "nbconvert_exporter": "python",
   "pygments_lexer": "ipython3",
   "version": "3.7.9"
  },
  "papermill": {
   "default_parameters": {},
   "duration": 10.67591,
   "end_time": "2021-02-05T05:35:48.891838",
   "environment_variables": {},
   "exception": null,
   "input_path": "__notebook__.ipynb",
   "output_path": "__notebook__.ipynb",
   "parameters": {},
   "start_time": "2021-02-05T05:35:38.215928",
   "version": "2.2.2"
  }
 },
 "nbformat": 4,
 "nbformat_minor": 4
}
